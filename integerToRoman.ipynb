{
 "cells": [
  {
   "cell_type": "code",
   "execution_count": 41,
   "metadata": {},
   "outputs": [
    {
     "name": "stdout",
     "output_type": "stream",
     "text": [
      "III\n"
     ]
    }
   ],
   "source": [
    "#!/usr/bin/env python3\n",
    "# -*- coding: UTF-8 -*-\n",
    "\"\"\"\n",
    "intToRoman.py: The intToRoman module, which defines an IntToRoman class.\n",
    "\"\"\"\n",
    "\n",
    "class IntToRoman:\n",
    "    def intToRoman(self, num: int) -> str:\n",
    "        roman_numerals_reverse= {\"I\":1, \"V\": 5, \"X\": 10,\"L\": 50, \"C\": 100,\"D\": 500, \"M\": 1000} \n",
    "        \n",
    "        roman_numerals={k:v for v,k in roman_numerals_reverse.items()} # just to change the order\n",
    "        st = \"\"\n",
    "        while True: # to iterate over the remainders and to create string for Ramona number\n",
    "            if num==0: \n",
    "                break          \n",
    "            if num>=1000:\n",
    "                number_of_thousands= num//1000\n",
    "                st=number_of_thousands*roman_numerals[1000]\n",
    "                num=num-number_of_thousands*1000\n",
    "                continue\n",
    "            if num>100:\n",
    "                if num>=900:\n",
    "                    st=st+\"CM\"\n",
    "                    num=num-900\n",
    "                elif 500<=num<900:\n",
    "                    st=st+\"D\"\n",
    "                    num=num-500                \n",
    "                elif 400<=num<500:\n",
    "                    st=st+\"CD\"\n",
    "                    num=num-400\n",
    "                else:\n",
    "                    number_of_hundreds=num//100\n",
    "                    st=number_of_hundreds*roman_numerals[100]\n",
    "                    num=num-number_of_thousands*100\n",
    "                continue\n",
    "            if num>10:\n",
    "                if num>=90:\n",
    "                    st=st+\"XC\"\n",
    "                    num=num-90\n",
    "                elif 50<=num<90:\n",
    "                    st=st+\"L\"\n",
    "                    num=num-50  \n",
    "                elif 40<=num<50:\n",
    "                    st=st+\"XL\"\n",
    "                    num=num-40\n",
    "                else:\n",
    "                    number_of_tens=num//10\n",
    "                    st=st+number_of_tens*roman_numerals[10]\n",
    "                    num=num-number_of_tens*10\n",
    "                continue\n",
    "            if num>=1:\n",
    "                if num==9:\n",
    "                    st=st+\"IX\"\n",
    "                    num=num-9\n",
    "                elif 5<=num<9:\n",
    "                    st=st+\"V\"\n",
    "                    num=num-5  \n",
    "                elif 4<=num<5:\n",
    "                    st=st+\"IV\"\n",
    "                    num=num-4\n",
    "                else:\n",
    "                    number_of_ones=num//1\n",
    "                    st=st+number_of_ones*roman_numerals[1]\n",
    "                    num=num-number_of_ones*1\n",
    "            else:\n",
    "                break      \n",
    "            \n",
    "        return st\n",
    "        \n",
    "\n",
    "s1=intToRoman()\n",
    "x=s1.intToRoman(3)\n",
    "print(x)\n"
   ]
  }
 ],
 "metadata": {
  "kernelspec": {
   "display_name": "Python 3 (ipykernel)",
   "language": "python",
   "name": "python3"
  },
  "language_info": {
   "codemirror_mode": {
    "name": "ipython",
    "version": 3
   },
   "file_extension": ".py",
   "mimetype": "text/x-python",
   "name": "python",
   "nbconvert_exporter": "python",
   "pygments_lexer": "ipython3",
   "version": "3.9.12"
  }
 },
 "nbformat": 4,
 "nbformat_minor": 4
}
